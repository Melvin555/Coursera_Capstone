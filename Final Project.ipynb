{
 "cells": [
  {
   "cell_type": "markdown",
   "metadata": {},
   "source": [
    "# The Battle of Neighborhoods"
   ]
  },
  {
   "cell_type": "markdown",
   "metadata": {},
   "source": [
    "<h2> Introduction & Biosness Problem </h2>"
   ]
  },
  {
   "cell_type": "markdown",
   "metadata": {},
   "source": [
    "<h3>Introduction</h3>"
   ]
  },
  {
   "cell_type": "markdown",
   "metadata": {},
   "source": [
    "<p>New York City is very known for having a very diverse community. It is also known as one of the\n",
    "most diverse cities in the entire world. Food plays a big role, if someone travels tot New York,\n",
    "he/she could experience variety of food diversity too ranging from European food style to Asians.\n",
    "The city consists of 5 Boroughs, namely: Queens, Brooklyn, Bronx, Manhattan, and Staten Island.\n",
    "All of them provides the varying food culture and diverse.\n",
    "As the city grows more and more popular because of its diversity, many people from around the\n",
    "world wish to visit this diverse city. Including the most populated country in the world, China. As\n",
    "of 2017, there are 893,697 total population of Chinese ethnicity in the City itself. Hence, it is\n",
    "known that there are large Chinatown in Brooklyn, Queens, and Manhattan. This is an interesting\n",
    "study to update the New Yorkers with new surveys of which area of the city provides varies\n",
    "Chinese food as many Chinese tourist would visit the city to taste and compare their hometown\n",
    "food variation.</p>"
   ]
  },
  {
   "cell_type": "markdown",
   "metadata": {},
   "source": [
    "<h3>Business Problem</h3>"
   ]
  },
  {
   "cell_type": "markdown",
   "metadata": {},
   "source": [
    "<p>According to the NY Times, the number of Chinese visitors to New York City continues to rise each\n",
    "year. As in 2018, the visitors (Non-American Chinese Ethnic people) reached the number of 65.2\n",
    "million people as the ninth straight annual increase. This incredible huge number of course will\n",
    "interact more of these tourists to taste and compare the Chinese cuisines in NYC to their\n",
    "hometown in China / Asian countries with huge Chinese population. Hence, a survey of which part\n",
    "of NYC to provide more Chinese restaurants will be beneficial for these Chinese tourists to travel\n",
    "and taste NYC Chinese style cuisine. This experiment will help to provide such information for the\n",
    "Chinese tourist in need.</p>"
   ]
  },
  {
   "cell_type": "markdown",
   "metadata": {},
   "source": [
    "<h3>Target Audience</h3>"
   ]
  },
  {
   "cell_type": "markdown",
   "metadata": {},
   "source": [
    "<p>The main target of this experiment is Chinese people who comes to NYC to travel and try the NYC\n",
    "Chinese cuisine</p>"
   ]
  },
  {
   "cell_type": "code",
   "execution_count": 3,
   "metadata": {},
   "outputs": [
    {
     "name": "stdout",
     "output_type": "stream",
     "text": [
      "Collecting package metadata (current_repodata.json): done\n",
      "Solving environment: done\n",
      "\n",
      "# All requested packages already installed.\n",
      "\n"
     ]
    }
   ],
   "source": [
    "import pandas as pd\n",
    "import numpy as np\n",
    "import requests\n",
    "import matplotlib.cm as cm\n",
    "import matplotlib.colors as colors\n",
    "import matplotlib.pyplot as plt\n",
    "%matplotlib inline \n",
    "import seaborn as sns\n",
    "import io\n",
    "from io import BytesIO\n",
    "#download dependencies\n",
    "\n",
    "#!conda update -n base -c defaults conda\n",
    "import json #library to handle JSON files\n",
    "from pandas.io.json import json_normalize # tranform JSON file into a pandas dataframe\n",
    "\n",
    "!conda install -c conda-forge geopy --yes \n",
    "from geopy.geocoders import Nominatim # convert an address into latitude and longitude values\n",
    "\n",
    "#!conda install -c conda-forge folium=0.5.0 --yes \n",
    "import folium # map rendering library"
   ]
  },
  {
   "cell_type": "code",
   "execution_count": 12,
   "metadata": {},
   "outputs": [],
   "source": [
    "with open('newyork_data.json') as json_data:\n",
    "    newyork_data = json.load(json_data)"
   ]
  },
  {
   "cell_type": "code",
   "execution_count": 13,
   "metadata": {},
   "outputs": [],
   "source": [
    "neighborhoods_data = newyork_data['features']"
   ]
  },
  {
   "cell_type": "code",
   "execution_count": 14,
   "metadata": {},
   "outputs": [],
   "source": [
    "# define the dataframe columns\n",
    "column_names = ['Borough', 'Neighborhood', 'Latitude', 'Longitude'] \n",
    "\n",
    "# instantiate the dataframe\n",
    "neighborhoods = pd.DataFrame(columns=column_names)"
   ]
  },
  {
   "cell_type": "code",
   "execution_count": null,
   "metadata": {},
   "outputs": [],
   "source": [
    "neighborhoods"
   ]
  },
  {
   "cell_type": "code",
   "execution_count": 6,
   "metadata": {},
   "outputs": [],
   "source": [
    "for data in neighborhoods_data:\n",
    "    borough = neighborhood_name = data['properties']['borough'] \n",
    "    neighborhood_name = data['properties']['name']\n",
    "        \n",
    "    neighborhood_latlon = data['geometry']['coordinates']\n",
    "    neighborhood_lat = neighborhood_latlon[1]\n",
    "    neighborhood_lon = neighborhood_latlon[0]\n",
    "    \n",
    "    neighborhoods = neighborhoods.append({'Borough': borough,\n",
    "                                          'Neighborhood': neighborhood_name,\n",
    "                                          'Latitude': neighborhood_lat,\n",
    "                                          'Longitude': neighborhood_lon}, ignore_index=True)"
   ]
  },
  {
   "cell_type": "code",
   "execution_count": 7,
   "metadata": {},
   "outputs": [
    {
     "data": {
      "text/html": [
       "<div>\n",
       "<style scoped>\n",
       "    .dataframe tbody tr th:only-of-type {\n",
       "        vertical-align: middle;\n",
       "    }\n",
       "\n",
       "    .dataframe tbody tr th {\n",
       "        vertical-align: top;\n",
       "    }\n",
       "\n",
       "    .dataframe thead th {\n",
       "        text-align: right;\n",
       "    }\n",
       "</style>\n",
       "<table border=\"1\" class=\"dataframe\">\n",
       "  <thead>\n",
       "    <tr style=\"text-align: right;\">\n",
       "      <th></th>\n",
       "      <th>Borough</th>\n",
       "      <th>Neighborhood</th>\n",
       "      <th>Latitude</th>\n",
       "      <th>Longitude</th>\n",
       "    </tr>\n",
       "  </thead>\n",
       "  <tbody>\n",
       "    <tr>\n",
       "      <th>0</th>\n",
       "      <td>Bronx</td>\n",
       "      <td>Wakefield</td>\n",
       "      <td>40.894705</td>\n",
       "      <td>-73.847201</td>\n",
       "    </tr>\n",
       "    <tr>\n",
       "      <th>1</th>\n",
       "      <td>Bronx</td>\n",
       "      <td>Co-op City</td>\n",
       "      <td>40.874294</td>\n",
       "      <td>-73.829939</td>\n",
       "    </tr>\n",
       "    <tr>\n",
       "      <th>2</th>\n",
       "      <td>Bronx</td>\n",
       "      <td>Eastchester</td>\n",
       "      <td>40.887556</td>\n",
       "      <td>-73.827806</td>\n",
       "    </tr>\n",
       "    <tr>\n",
       "      <th>3</th>\n",
       "      <td>Bronx</td>\n",
       "      <td>Fieldston</td>\n",
       "      <td>40.895437</td>\n",
       "      <td>-73.905643</td>\n",
       "    </tr>\n",
       "    <tr>\n",
       "      <th>4</th>\n",
       "      <td>Bronx</td>\n",
       "      <td>Riverdale</td>\n",
       "      <td>40.890834</td>\n",
       "      <td>-73.912585</td>\n",
       "    </tr>\n",
       "  </tbody>\n",
       "</table>\n",
       "</div>"
      ],
      "text/plain": [
       "  Borough Neighborhood   Latitude  Longitude\n",
       "0   Bronx    Wakefield  40.894705 -73.847201\n",
       "1   Bronx   Co-op City  40.874294 -73.829939\n",
       "2   Bronx  Eastchester  40.887556 -73.827806\n",
       "3   Bronx    Fieldston  40.895437 -73.905643\n",
       "4   Bronx    Riverdale  40.890834 -73.912585"
      ]
     },
     "execution_count": 7,
     "metadata": {},
     "output_type": "execute_result"
    }
   ],
   "source": [
    "neighborhoods.head()"
   ]
  },
  {
   "cell_type": "code",
   "execution_count": 8,
   "metadata": {},
   "outputs": [
    {
     "name": "stdout",
     "output_type": "stream",
     "text": [
      "The dataframe has 5 boroughs and 306 neighborhoods.\n"
     ]
    }
   ],
   "source": [
    "print('The dataframe has {} boroughs and {} neighborhoods.'.format(\n",
    "        len(neighborhoods['Borough'].unique()),\n",
    "        neighborhoods.shape[0]\n",
    "    )\n",
    ")\n"
   ]
  },
  {
   "cell_type": "code",
   "execution_count": 9,
   "metadata": {},
   "outputs": [],
   "source": [
    "def get_venues(lat,lng):\n",
    "    \n",
    "    #set variables\n",
    "    CLIENT_ID = '05K5KD1U5KGPJUHFZYPUYT00INNSQZEWDLA2VCCFSKR0GP3Z' # your Foursquare ID\n",
    "    CLIENT_SECRET = '4JJFOMUCBG5JWKSKORR45B0MFAOCBDVSPIGB4ZSLRGRLYQIK' # your Foursquare Secret\n",
    "    VERSION = '20200424' # Foursquare API version\n",
    "    LIMIT = 500\n",
    "    radius = 500\n",
    "    \n",
    "    #url to fetch data from foursquare api\n",
    "    url = 'https://api.foursquare.com/v2/venues/explore?&client_id={}&client_secret={}&v={}&ll={},{}'.format(\n",
    "            CLIENT_ID, \n",
    "            CLIENT_SECRET, \n",
    "            VERSION, \n",
    "            lat, \n",
    "            lng)\n",
    "    \n",
    "    # get all the data\n",
    "    results = requests.get(url).json()\n",
    "    venue_data=results[\"response\"]['groups'][0]['items']\n",
    "    venue_details=[]\n",
    "    for row in venue_data:\n",
    "        try:\n",
    "            venue_id=row['venue']['id']\n",
    "            venue_name=row['venue']['name']\n",
    "            venue_category=row['venue']['categories'][0]['name']\n",
    "            venue_details.append([venue_id,venue_name,venue_category])\n",
    "        except KeyError:\n",
    "            pass\n",
    "        \n",
    "    column_names=['ID','Name','Category']\n",
    "    df = pd.DataFrame(venue_details,columns=column_names)\n",
    "    return df\n",
    "\n",
    "def get_venue_details(venue_id):\n",
    "    #url to fetch data from foursquare api\n",
    "    url = 'https://api.foursquare.com/v2/venues/{}?&client_id={}&client_secret={}&v={}'.format(\n",
    "            venue_id,\n",
    "            CLIENT_ID, \n",
    "            CLIENT_SECRET, \n",
    "            VERSION)\n",
    "    \n",
    "    results = requests.get(url).json() # get all the data\n",
    "    print(results)\n",
    "    venue_data=results['response']['venue']\n",
    "    venue_details=[]\n",
    "    try:\n",
    "        venue_id=venue_data['id']\n",
    "        venue_name=venue_data['name']\n",
    "        venue_likes=venue_data['likes']['count']\n",
    "        venue_rating=venue_data['rating']\n",
    "        venue_details.append([venue_id,venue_name,venue_likes,venue_rating])\n",
    "    except KeyError:\n",
    "        pass\n",
    "    column_names=['ID','Name','Likes','Rating']\n",
    "    df = pd.DataFrame(venue_details,columns=column_names)\n",
    "    return df\n",
    "\n",
    "def get_nyc_data():\n",
    "    url='https://cocl.us/new_york_dataset'\n",
    "    resp=requests.get(url).json() # all data is in features label\n",
    "    \n",
    "    features=resp['features'] # define the dataframe columns\n",
    "    \n",
    "    column_names = ['Borough', 'Neighborhood', 'Latitude', 'Longitude']  # instantiate the dataframe\n",
    "    \n",
    "    nyc_data = pd.DataFrame(columns=column_names)\n",
    "    for data in features:\n",
    "        borough = data['properties']['borough'] \n",
    "        neighborhood_name = data['properties']['name']\n",
    "        neighborhood_latlon = data['geometry']['coordinates']\n",
    "        neighborhood_lat = neighborhood_latlon[1]\n",
    "        neighborhood_lon = neighborhood_latlon[0]\n",
    "        nyc_data = nyc_data.append({'Borough': borough,\n",
    "                                          'Neighborhood': neighborhood_name,\n",
    "                                          'Latitude': neighborhood_lat,\n",
    "                                          'Longitude': neighborhood_lon}, ignore_index=True)\n",
    "    return nyc_data"
   ]
  },
  {
   "cell_type": "code",
   "execution_count": 10,
   "metadata": {},
   "outputs": [
    {
     "data": {
      "text/html": [
       "<div>\n",
       "<style scoped>\n",
       "    .dataframe tbody tr th:only-of-type {\n",
       "        vertical-align: middle;\n",
       "    }\n",
       "\n",
       "    .dataframe tbody tr th {\n",
       "        vertical-align: top;\n",
       "    }\n",
       "\n",
       "    .dataframe thead th {\n",
       "        text-align: right;\n",
       "    }\n",
       "</style>\n",
       "<table border=\"1\" class=\"dataframe\">\n",
       "  <thead>\n",
       "    <tr style=\"text-align: right;\">\n",
       "      <th></th>\n",
       "      <th>Borough</th>\n",
       "      <th>Neighborhood</th>\n",
       "      <th>Latitude</th>\n",
       "      <th>Longitude</th>\n",
       "    </tr>\n",
       "  </thead>\n",
       "  <tbody>\n",
       "    <tr>\n",
       "      <th>0</th>\n",
       "      <td>Bronx</td>\n",
       "      <td>Wakefield</td>\n",
       "      <td>40.894705</td>\n",
       "      <td>-73.847201</td>\n",
       "    </tr>\n",
       "    <tr>\n",
       "      <th>1</th>\n",
       "      <td>Bronx</td>\n",
       "      <td>Co-op City</td>\n",
       "      <td>40.874294</td>\n",
       "      <td>-73.829939</td>\n",
       "    </tr>\n",
       "    <tr>\n",
       "      <th>2</th>\n",
       "      <td>Bronx</td>\n",
       "      <td>Eastchester</td>\n",
       "      <td>40.887556</td>\n",
       "      <td>-73.827806</td>\n",
       "    </tr>\n",
       "    <tr>\n",
       "      <th>3</th>\n",
       "      <td>Bronx</td>\n",
       "      <td>Fieldston</td>\n",
       "      <td>40.895437</td>\n",
       "      <td>-73.905643</td>\n",
       "    </tr>\n",
       "    <tr>\n",
       "      <th>4</th>\n",
       "      <td>Bronx</td>\n",
       "      <td>Riverdale</td>\n",
       "      <td>40.890834</td>\n",
       "      <td>-73.912585</td>\n",
       "    </tr>\n",
       "  </tbody>\n",
       "</table>\n",
       "</div>"
      ],
      "text/plain": [
       "  Borough Neighborhood   Latitude  Longitude\n",
       "0   Bronx    Wakefield  40.894705 -73.847201\n",
       "1   Bronx   Co-op City  40.874294 -73.829939\n",
       "2   Bronx  Eastchester  40.887556 -73.827806\n",
       "3   Bronx    Fieldston  40.895437 -73.905643\n",
       "4   Bronx    Riverdale  40.890834 -73.912585"
      ]
     },
     "execution_count": 10,
     "metadata": {},
     "output_type": "execute_result"
    }
   ],
   "source": [
    "nyc_data = get_nyc_data()\n",
    "nyc_data.head()"
   ]
  },
  {
   "cell_type": "code",
   "execution_count": 13,
   "metadata": {},
   "outputs": [
    {
     "data": {
      "image/png": "[encoded data removed]",
      "text/plain": [
       "<Figure size 720x360 with 1 Axes>"
      ]
     },
     "metadata": {
      "needs_background": "light"
     },
     "output_type": "display_data"
    }
   ],
   "source": [
    "gry = 0.2, 0.4, 0.6, 0.6\n",
    "nyc_data.groupby('Borough')['Neighborhood'].count().plot.bar(figsize=(10,5), color='b')\n",
    "plt.title('Neighborhoods per Borough: NYC', fontsize = 20)\n",
    "plt.xlabel('Borough', fontsize = 13)\n",
    "plt.ylabel('No. Neighborhoods',fontsize = 13)\n",
    "plt.xticks(rotation = 'horizontal')\n",
    "plt.show()"
   ]
  },
  {
   "cell_type": "code",
   "execution_count": 14,
   "metadata": {},
   "outputs": [
    {
     "name": "stdout",
     "output_type": "stream",
     "text": [
      "( 1 / 306 ) Chinese Resturants in Wakefield, Bronx:0\n",
      "( 2 / 306 ) Chinese Resturants in Co-op City, Bronx:0\n",
      "( 3 / 306 ) Chinese Resturants in Eastchester, Bronx:0\n",
      "( 4 / 306 ) Chinese Resturants in Fieldston, Bronx:0\n",
      "( 5 / 306 ) Chinese Resturants in Riverdale, Bronx:0\n",
      "( 6 / 306 ) Chinese Resturants in Kingsbridge, Bronx:0\n",
      "( 7 / 306 ) Chinese Resturants in Marble Hill, Manhattan:0\n",
      "( 8 / 306 ) Chinese Resturants in Woodlawn, Bronx:0\n",
      "( 9 / 306 ) Chinese Resturants in Norwood, Bronx:0\n",
      "( 10 / 306 ) Chinese Resturants in Williamsbridge, Bronx:0\n",
      "( 11 / 306 ) Chinese Resturants in Baychester, Bronx:0\n",
      "( 12 / 306 ) Chinese Resturants in Pelham Parkway, Bronx:1\n",
      "( 13 / 306 ) Chinese Resturants in City Island, Bronx:0\n",
      "( 14 / 306 ) Chinese Resturants in Bedford Park, Bronx:0\n",
      "( 15 / 306 ) Chinese Resturants in University Heights, Bronx:1\n",
      "( 16 / 306 ) Chinese Resturants in Morris Heights, Bronx:0\n",
      "( 17 / 306 ) Chinese Resturants in Fordham, Bronx:1\n",
      "( 18 / 306 ) Chinese Resturants in East Tremont, Bronx:0\n",
      "( 19 / 306 ) Chinese Resturants in West Farms, Bronx:1\n",
      "( 20 / 306 ) Chinese Resturants in High  Bridge, Bronx:0\n",
      "( 21 / 306 ) Chinese Resturants in Melrose, Bronx:0\n",
      "( 22 / 306 ) Chinese Resturants in Mott Haven, Bronx:0\n",
      "( 23 / 306 ) Chinese Resturants in Port Morris, Bronx:0\n",
      "( 24 / 306 ) Chinese Resturants in Longwood, Bronx:0\n",
      "( 25 / 306 ) Chinese Resturants in Hunts Point, Bronx:1\n",
      "( 26 / 306 ) Chinese Resturants in Morrisania, Bronx:0\n",
      "( 27 / 306 ) Chinese Resturants in Soundview, Bronx:1\n",
      "( 28 / 306 ) Chinese Resturants in Clason Point, Bronx:0\n",
      "( 29 / 306 ) Chinese Resturants in Throgs Neck, Bronx:0\n",
      "( 30 / 306 ) Chinese Resturants in Country Club, Bronx:0\n",
      "( 31 / 306 ) Chinese Resturants in Parkchester, Bronx:0\n",
      "( 32 / 306 ) Chinese Resturants in Westchester Square, Bronx:0\n",
      "( 33 / 306 ) Chinese Resturants in Van Nest, Bronx:0\n",
      "( 34 / 306 ) Chinese Resturants in Morris Park, Bronx:0\n",
      "( 35 / 306 ) Chinese Resturants in Belmont, Bronx:0\n",
      "( 36 / 306 ) Chinese Resturants in Spuyten Duyvil, Bronx:0\n",
      "( 37 / 306 ) Chinese Resturants in North Riverdale, Bronx:0\n",
      "( 38 / 306 ) Chinese Resturants in Pelham Bay, Bronx:0\n",
      "( 39 / 306 ) Chinese Resturants in Schuylerville, Bronx:0\n",
      "( 40 / 306 ) Chinese Resturants in Edgewater Park, Bronx:0\n",
      "( 41 / 306 ) Chinese Resturants in Castle Hill, Bronx:0\n",
      "( 42 / 306 ) Chinese Resturants in Olinville, Bronx:0\n",
      "( 43 / 306 ) Chinese Resturants in Pelham Gardens, Bronx:0\n",
      "( 44 / 306 ) Chinese Resturants in Concourse, Bronx:0\n",
      "( 45 / 306 ) Chinese Resturants in Unionport, Bronx:0\n",
      "( 46 / 306 ) Chinese Resturants in Edenwald, Bronx:0\n",
      "( 47 / 306 ) Chinese Resturants in Bay Ridge, Brooklyn:0\n",
      "( 48 / 306 ) Chinese Resturants in Bensonhurst, Brooklyn:2\n",
      "( 49 / 306 ) Chinese Resturants in Sunset Park, Brooklyn:1\n",
      "( 50 / 306 ) Chinese Resturants in Greenpoint, Brooklyn:0\n",
      "( 51 / 306 ) Chinese Resturants in Gravesend, Brooklyn:0\n",
      "( 52 / 306 ) Chinese Resturants in Brighton Beach, Brooklyn:0\n",
      "( 53 / 306 ) Chinese Resturants in Sheepshead Bay, Brooklyn:0\n",
      "( 54 / 306 ) Chinese Resturants in Manhattan Terrace, Brooklyn:0\n",
      "( 55 / 306 ) Chinese Resturants in Flatbush, Brooklyn:0\n",
      "( 56 / 306 ) Chinese Resturants in Crown Heights, Brooklyn:0\n",
      "( 57 / 306 ) Chinese Resturants in East Flatbush, Brooklyn:1\n",
      "( 58 / 306 ) Chinese Resturants in Kensington, Brooklyn:0\n",
      "( 59 / 306 ) Chinese Resturants in Windsor Terrace, Brooklyn:1\n",
      "( 60 / 306 ) Chinese Resturants in Prospect Heights, Brooklyn:0\n",
      "( 61 / 306 ) Chinese Resturants in Brownsville, Brooklyn:0\n",
      "( 62 / 306 ) Chinese Resturants in Williamsburg, Brooklyn:0\n",
      "( 63 / 306 ) Chinese Resturants in Bushwick, Brooklyn:0\n",
      "( 64 / 306 ) Chinese Resturants in Bedford Stuyvesant, Brooklyn:0\n",
      "( 65 / 306 ) Chinese Resturants in Brooklyn Heights, Brooklyn:0\n",
      "( 66 / 306 ) Chinese Resturants in Cobble Hill, Brooklyn:0\n",
      "( 67 / 306 ) Chinese Resturants in Carroll Gardens, Brooklyn:0\n",
      "( 68 / 306 ) Chinese Resturants in Red Hook, Brooklyn:0\n",
      "( 69 / 306 ) Chinese Resturants in Gowanus, Brooklyn:0\n",
      "( 70 / 306 ) Chinese Resturants in Fort Greene, Brooklyn:0\n",
      "( 71 / 306 ) Chinese Resturants in Park Slope, Brooklyn:0\n",
      "( 72 / 306 ) Chinese Resturants in Cypress Hills, Brooklyn:0\n",
      "( 73 / 306 ) Chinese Resturants in East New York, Brooklyn:0\n",
      "( 74 / 306 ) Chinese Resturants in Starrett City, Brooklyn:0\n",
      "( 75 / 306 ) Chinese Resturants in Canarsie, Brooklyn:0\n",
      "( 76 / 306 ) Chinese Resturants in Flatlands, Brooklyn:2\n",
      "( 77 / 306 ) Chinese Resturants in Mill Island, Brooklyn:1\n",
      "( 78 / 306 ) Chinese Resturants in Manhattan Beach, Brooklyn:0\n",
      "( 79 / 306 ) Chinese Resturants in Coney Island, Brooklyn:0\n",
      "( 80 / 306 ) Chinese Resturants in Bath Beach, Brooklyn:0\n",
      "( 81 / 306 ) Chinese Resturants in Borough Park, Brooklyn:0\n",
      "( 82 / 306 ) Chinese Resturants in Dyker Heights, Brooklyn:1\n",
      "( 83 / 306 ) Chinese Resturants in Gerritsen Beach, Brooklyn:0\n",
      "( 84 / 306 ) Chinese Resturants in Marine Park, Brooklyn:1\n",
      "( 85 / 306 ) Chinese Resturants in Clinton Hill, Brooklyn:0\n",
      "( 86 / 306 ) Chinese Resturants in Sea Gate, Brooklyn:0\n",
      "( 87 / 306 ) Chinese Resturants in Downtown, Brooklyn:2\n",
      "( 88 / 306 ) Chinese Resturants in Boerum Hill, Brooklyn:0\n",
      "( 89 / 306 ) Chinese Resturants in Prospect Lefferts Gardens, Brooklyn:0\n",
      "( 90 / 306 ) Chinese Resturants in Ocean Hill, Brooklyn:1\n",
      "( 91 / 306 ) Chinese Resturants in City Line, Brooklyn:0\n",
      "( 92 / 306 ) Chinese Resturants in Bergen Beach, Brooklyn:1\n",
      "( 93 / 306 ) Chinese Resturants in Midwood, Brooklyn:0\n",
      "( 94 / 306 ) Chinese Resturants in Prospect Park South, Brooklyn:0\n",
      "( 95 / 306 ) Chinese Resturants in Georgetown, Brooklyn:1\n",
      "( 96 / 306 ) Chinese Resturants in East Williamsburg, Brooklyn:0\n",
      "( 97 / 306 ) Chinese Resturants in North Side, Brooklyn:1\n",
      "( 98 / 306 ) Chinese Resturants in South Side, Brooklyn:0\n",
      "( 99 / 306 ) Chinese Resturants in Ocean Parkway, Brooklyn:0\n",
      "( 100 / 306 ) Chinese Resturants in Fort Hamilton, Brooklyn:0\n",
      "( 101 / 306 ) Chinese Resturants in Chinatown, Manhattan:3\n",
      "( 102 / 306 ) Chinese Resturants in Washington Heights, Manhattan:0\n",
      "( 103 / 306 ) Chinese Resturants in Inwood, Manhattan:0\n",
      "( 104 / 306 ) Chinese Resturants in Hamilton Heights, Manhattan:0\n",
      "( 105 / 306 ) Chinese Resturants in Manhattanville, Manhattan:0\n",
      "( 106 / 306 ) Chinese Resturants in Central Harlem, Manhattan:2\n",
      "( 107 / 306 ) Chinese Resturants in East Harlem, Manhattan:0\n",
      "( 108 / 306 ) Chinese Resturants in Upper East Side, Manhattan:0\n",
      "( 109 / 306 ) Chinese Resturants in Yorkville, Manhattan:0\n",
      "( 110 / 306 ) Chinese Resturants in Lenox Hill, Manhattan:1\n",
      "( 111 / 306 ) Chinese Resturants in Roosevelt Island, Manhattan:0\n",
      "( 112 / 306 ) Chinese Resturants in Upper West Side, Manhattan:1\n",
      "( 113 / 306 ) Chinese Resturants in Lincoln Square, Manhattan:0\n",
      "( 114 / 306 ) Chinese Resturants in Clinton, Manhattan:0\n",
      "( 115 / 306 ) Chinese Resturants in Midtown, Manhattan:0\n",
      "( 116 / 306 ) Chinese Resturants in Murray Hill, Manhattan:1\n",
      "( 117 / 306 ) Chinese Resturants in Chelsea, Manhattan:1\n",
      "( 118 / 306 ) Chinese Resturants in Greenwich Village, Manhattan:0\n",
      "( 119 / 306 ) Chinese Resturants in East Village, Manhattan:0\n",
      "( 120 / 306 ) Chinese Resturants in Lower East Side, Manhattan:1\n",
      "( 121 / 306 ) Chinese Resturants in Tribeca, Manhattan:1\n",
      "( 122 / 306 ) Chinese Resturants in Little Italy, Manhattan:1\n",
      "( 123 / 306 ) Chinese Resturants in Soho, Manhattan:0\n",
      "( 124 / 306 ) Chinese Resturants in West Village, Manhattan:0\n",
      "( 125 / 306 ) Chinese Resturants in Manhattan Valley, Manhattan:1\n",
      "( 126 / 306 ) Chinese Resturants in Morningside Heights, Manhattan:0\n",
      "( 127 / 306 ) Chinese Resturants in Gramercy, Manhattan:0\n",
      "( 128 / 306 ) Chinese Resturants in Battery Park City, Manhattan:0\n",
      "( 129 / 306 ) Chinese Resturants in Financial District, Manhattan:0\n",
      "( 130 / 306 ) Chinese Resturants in Astoria, Queens:0\n",
      "( 131 / 306 ) Chinese Resturants in Woodside, Queens:1\n",
      "( 132 / 306 ) Chinese Resturants in Jackson Heights, Queens:0\n",
      "( 133 / 306 ) Chinese Resturants in Elmhurst, Queens:2\n",
      "( 134 / 306 ) Chinese Resturants in Howard Beach, Queens:0\n",
      "( 135 / 306 ) Chinese Resturants in Corona, Queens:0\n",
      "( 136 / 306 ) Chinese Resturants in Forest Hills, Queens:0\n",
      "( 137 / 306 ) Chinese Resturants in Kew Gardens, Queens:0\n",
      "( 138 / 306 ) Chinese Resturants in Richmond Hill, Queens:0\n",
      "( 139 / 306 ) Chinese Resturants in Flushing, Queens:1\n",
      "( 140 / 306 ) Chinese Resturants in Long Island City, Queens:0\n",
      "( 141 / 306 ) Chinese Resturants in Sunnyside, Queens:0\n",
      "( 142 / 306 ) Chinese Resturants in East Elmhurst, Queens:0\n",
      "( 143 / 306 ) Chinese Resturants in Maspeth, Queens:0\n",
      "( 144 / 306 ) Chinese Resturants in Ridgewood, Queens:0\n",
      "( 145 / 306 ) Chinese Resturants in Glendale, Queens:0\n",
      "( 146 / 306 ) Chinese Resturants in Rego Park, Queens:1\n",
      "( 147 / 306 ) Chinese Resturants in Woodhaven, Queens:0\n",
      "( 148 / 306 ) Chinese Resturants in Ozone Park, Queens:0\n",
      "( 149 / 306 ) Chinese Resturants in South Ozone Park, Queens:0\n",
      "( 150 / 306 ) Chinese Resturants in College Point, Queens:2\n",
      "( 151 / 306 ) Chinese Resturants in Whitestone, Queens:0\n",
      "( 152 / 306 ) Chinese Resturants in Bayside, Queens:0\n",
      "( 153 / 306 ) Chinese Resturants in Auburndale, Queens:0\n",
      "( 154 / 306 ) Chinese Resturants in Little Neck, Queens:2\n",
      "( 155 / 306 ) Chinese Resturants in Douglaston, Queens:2\n",
      "( 156 / 306 ) Chinese Resturants in Glen Oaks, Queens:0\n",
      "( 157 / 306 ) Chinese Resturants in Bellerose, Queens:0\n",
      "( 158 / 306 ) Chinese Resturants in Kew Gardens Hills, Queens:1\n",
      "( 159 / 306 ) Chinese Resturants in Fresh Meadows, Queens:0\n",
      "( 160 / 306 ) Chinese Resturants in Briarwood, Queens:1\n",
      "( 161 / 306 ) Chinese Resturants in Jamaica Center, Queens:0\n",
      "( 162 / 306 ) Chinese Resturants in Oakland Gardens, Queens:0\n",
      "( 163 / 306 ) Chinese Resturants in Queens Village, Queens:0\n",
      "( 164 / 306 ) Chinese Resturants in Hollis, Queens:0\n",
      "( 165 / 306 ) Chinese Resturants in South Jamaica, Queens:0\n",
      "( 166 / 306 ) Chinese Resturants in St. Albans, Queens:0\n",
      "( 167 / 306 ) Chinese Resturants in Rochdale, Queens:0\n",
      "( 168 / 306 ) Chinese Resturants in Springfield Gardens, Queens:0\n",
      "( 169 / 306 ) Chinese Resturants in Cambria Heights, Queens:1\n",
      "( 170 / 306 ) Chinese Resturants in Rosedale, Queens:0\n",
      "( 171 / 306 ) Chinese Resturants in Far Rockaway, Queens:2\n",
      "( 172 / 306 ) Chinese Resturants in Broad Channel, Queens:0\n",
      "( 173 / 306 ) Chinese Resturants in Breezy Point, Queens:0\n",
      "( 174 / 306 ) Chinese Resturants in Steinway, Queens:0\n",
      "( 175 / 306 ) Chinese Resturants in Beechhurst, Queens:0\n",
      "( 176 / 306 ) Chinese Resturants in Bay Terrace, Queens:0\n",
      "( 177 / 306 ) Chinese Resturants in Edgemere, Queens:1\n",
      "( 178 / 306 ) Chinese Resturants in Arverne, Queens:0\n",
      "( 179 / 306 ) Chinese Resturants in Rockaway Beach, Queens:0\n",
      "( 180 / 306 ) Chinese Resturants in Neponsit, Queens:0\n",
      "( 181 / 306 ) Chinese Resturants in Murray Hill, Queens:0\n",
      "( 182 / 306 ) Chinese Resturants in Floral Park, Queens:0\n",
      "( 183 / 306 ) Chinese Resturants in Holliswood, Queens:0\n",
      "( 184 / 306 ) Chinese Resturants in Jamaica Estates, Queens:0\n",
      "( 185 / 306 ) Chinese Resturants in Queensboro Hill, Queens:7\n",
      "( 186 / 306 ) Chinese Resturants in Hillcrest, Queens:1\n",
      "( 187 / 306 ) Chinese Resturants in Ravenswood, Queens:0\n",
      "( 188 / 306 ) Chinese Resturants in Lindenwood, Queens:1\n",
      "( 189 / 306 ) Chinese Resturants in Laurelton, Queens:0\n",
      "( 190 / 306 ) Chinese Resturants in Lefrak City, Queens:0\n",
      "( 191 / 306 ) Chinese Resturants in Belle Harbor, Queens:0\n",
      "( 192 / 306 ) Chinese Resturants in Rockaway Park, Queens:0\n",
      "( 193 / 306 ) Chinese Resturants in Somerville, Queens:0\n",
      "( 194 / 306 ) Chinese Resturants in Brookville, Queens:0\n",
      "( 195 / 306 ) Chinese Resturants in Bellaire, Queens:0\n",
      "( 196 / 306 ) Chinese Resturants in North Corona, Queens:0\n",
      "( 197 / 306 ) Chinese Resturants in Forest Hills Gardens, Queens:0\n",
      "( 198 / 306 ) Chinese Resturants in St. George, Staten Island:0\n",
      "( 199 / 306 ) Chinese Resturants in New Brighton, Staten Island:0\n",
      "( 200 / 306 ) Chinese Resturants in Stapleton, Staten Island:0\n",
      "( 201 / 306 ) Chinese Resturants in Rosebank, Staten Island:0\n",
      "( 202 / 306 ) Chinese Resturants in West Brighton, Staten Island:0\n",
      "( 203 / 306 ) Chinese Resturants in Grymes Hill, Staten Island:0\n",
      "( 204 / 306 ) Chinese Resturants in Todt Hill, Staten Island:1\n",
      "( 205 / 306 ) Chinese Resturants in South Beach, Staten Island:1\n",
      "( 206 / 306 ) Chinese Resturants in Port Richmond, Staten Island:1\n",
      "( 207 / 306 ) Chinese Resturants in Mariner's Harbor, Staten Island:1\n",
      "( 208 / 306 ) Chinese Resturants in Port Ivory, Staten Island:0\n",
      "( 209 / 306 ) Chinese Resturants in Castleton Corners, Staten Island:1\n",
      "( 210 / 306 ) Chinese Resturants in New Springville, Staten Island:0\n",
      "( 211 / 306 ) Chinese Resturants in Travis, Staten Island:0\n",
      "( 212 / 306 ) Chinese Resturants in New Dorp, Staten Island:0\n",
      "( 213 / 306 ) Chinese Resturants in Oakwood, Staten Island:0\n",
      "( 214 / 306 ) Chinese Resturants in Great Kills, Staten Island:0\n",
      "( 215 / 306 ) Chinese Resturants in Eltingville, Staten Island:0\n",
      "( 216 / 306 ) Chinese Resturants in Annadale, Staten Island:0\n",
      "( 217 / 306 ) Chinese Resturants in Woodrow, Staten Island:0\n",
      "( 218 / 306 ) Chinese Resturants in Tottenville, Staten Island:1\n",
      "( 219 / 306 ) Chinese Resturants in Tompkinsville, Staten Island:0\n",
      "( 220 / 306 ) Chinese Resturants in Silver Lake, Staten Island:0\n",
      "( 221 / 306 ) Chinese Resturants in Sunnyside, Staten Island:0\n",
      "( 222 / 306 ) Chinese Resturants in Ditmas Park, Brooklyn:0\n",
      "( 223 / 306 ) Chinese Resturants in Wingate, Brooklyn:1\n",
      "( 224 / 306 ) Chinese Resturants in Rugby, Brooklyn:1\n",
      "( 225 / 306 ) Chinese Resturants in Park Hill, Staten Island:0\n",
      "( 226 / 306 ) Chinese Resturants in Westerleigh, Staten Island:1\n",
      "( 227 / 306 ) Chinese Resturants in Graniteville, Staten Island:1\n",
      "( 228 / 306 ) Chinese Resturants in Arlington, Staten Island:1\n",
      "( 229 / 306 ) Chinese Resturants in Arrochar, Staten Island:1\n",
      "( 230 / 306 ) Chinese Resturants in Grasmere, Staten Island:1\n",
      "( 231 / 306 ) Chinese Resturants in Old Town, Staten Island:1\n",
      "( 232 / 306 ) Chinese Resturants in Dongan Hills, Staten Island:1\n",
      "( 233 / 306 ) Chinese Resturants in Midland Beach, Staten Island:1\n",
      "( 234 / 306 ) Chinese Resturants in Grant City, Staten Island:1\n",
      "( 235 / 306 ) Chinese Resturants in New Dorp Beach, Staten Island:0\n",
      "( 236 / 306 ) Chinese Resturants in Bay Terrace, Staten Island:0\n",
      "( 237 / 306 ) Chinese Resturants in Huguenot, Staten Island:0\n",
      "( 238 / 306 ) Chinese Resturants in Pleasant Plains, Staten Island:0\n",
      "( 239 / 306 ) Chinese Resturants in Butler Manor, Staten Island:0\n",
      "( 240 / 306 ) Chinese Resturants in Charleston, Staten Island:0\n",
      "( 241 / 306 ) Chinese Resturants in Rossville, Staten Island:0\n",
      "( 242 / 306 ) Chinese Resturants in Arden Heights, Staten Island:0\n",
      "( 243 / 306 ) Chinese Resturants in Greenridge, Staten Island:0\n",
      "( 244 / 306 ) Chinese Resturants in Heartland Village, Staten Island:0\n",
      "( 245 / 306 ) Chinese Resturants in Chelsea, Staten Island:0\n",
      "( 246 / 306 ) Chinese Resturants in Bloomfield, Staten Island:0\n",
      "( 247 / 306 ) Chinese Resturants in Bulls Head, Staten Island:1\n",
      "( 248 / 306 ) Chinese Resturants in Carnegie Hill, Manhattan:0\n",
      "( 249 / 306 ) Chinese Resturants in Noho, Manhattan:0\n",
      "( 250 / 306 ) Chinese Resturants in Civic Center, Manhattan:0\n",
      "( 251 / 306 ) Chinese Resturants in Midtown South, Manhattan:0\n",
      "( 252 / 306 ) Chinese Resturants in Richmond Town, Staten Island:0\n",
      "( 253 / 306 ) Chinese Resturants in Shore Acres, Staten Island:0\n",
      "( 254 / 306 ) Chinese Resturants in Clifton, Staten Island:0\n",
      "( 255 / 306 ) Chinese Resturants in Concord, Staten Island:0\n",
      "( 256 / 306 ) Chinese Resturants in Emerson Hill, Staten Island:0\n",
      "( 257 / 306 ) Chinese Resturants in Randall Manor, Staten Island:0\n",
      "( 258 / 306 ) Chinese Resturants in Howland Hook, Staten Island:0\n",
      "( 259 / 306 ) Chinese Resturants in Elm Park, Staten Island:1\n",
      "( 260 / 306 ) Chinese Resturants in Remsen Village, Brooklyn:1\n",
      "( 261 / 306 ) Chinese Resturants in New Lots, Brooklyn:0\n",
      "( 262 / 306 ) Chinese Resturants in Paerdegat Basin, Brooklyn:0\n",
      "( 263 / 306 ) Chinese Resturants in Mill Basin, Brooklyn:1\n",
      "( 264 / 306 ) Chinese Resturants in Jamaica Hills, Queens:0\n",
      "( 265 / 306 ) Chinese Resturants in Utopia, Queens:0\n",
      "( 266 / 306 ) Chinese Resturants in Pomonok, Queens:0\n",
      "( 267 / 306 ) Chinese Resturants in Astoria Heights, Queens:0\n",
      "( 268 / 306 ) Chinese Resturants in Claremont Village, Bronx:1\n",
      "( 269 / 306 ) Chinese Resturants in Concourse Village, Bronx:0\n",
      "( 270 / 306 ) Chinese Resturants in Mount Eden, Bronx:0\n",
      "( 271 / 306 ) Chinese Resturants in Mount Hope, Bronx:0\n",
      "( 272 / 306 ) Chinese Resturants in Sutton Place, Manhattan:0\n",
      "( 273 / 306 ) Chinese Resturants in Hunters Point, Queens:0\n",
      "( 274 / 306 ) Chinese Resturants in Turtle Bay, Manhattan:0\n",
      "( 275 / 306 ) Chinese Resturants in Tudor City, Manhattan:0\n",
      "( 276 / 306 ) Chinese Resturants in Stuyvesant Town, Manhattan:0\n",
      "( 277 / 306 ) Chinese Resturants in Flatiron, Manhattan:0\n",
      "( 278 / 306 ) Chinese Resturants in Sunnyside Gardens, Queens:0\n",
      "( 279 / 306 ) Chinese Resturants in Blissville, Queens:0\n",
      "( 280 / 306 ) Chinese Resturants in Fulton Ferry, Brooklyn:0\n",
      "( 281 / 306 ) Chinese Resturants in Vinegar Hill, Brooklyn:0\n",
      "( 282 / 306 ) Chinese Resturants in Weeksville, Brooklyn:1\n",
      "( 283 / 306 ) Chinese Resturants in Broadway Junction, Brooklyn:1\n",
      "( 284 / 306 ) Chinese Resturants in Dumbo, Brooklyn:0\n",
      "( 285 / 306 ) Chinese Resturants in Manor Heights, Staten Island:0\n",
      "( 286 / 306 ) Chinese Resturants in Willowbrook, Staten Island:0\n",
      "( 287 / 306 ) Chinese Resturants in Sandy Ground, Staten Island:0\n",
      "( 288 / 306 ) Chinese Resturants in Egbertville, Staten Island:0\n",
      "( 289 / 306 ) Chinese Resturants in Roxbury, Queens:0\n",
      "( 290 / 306 ) Chinese Resturants in Homecrest, Brooklyn:1\n",
      "( 291 / 306 ) Chinese Resturants in Middle Village, Queens:1\n",
      "( 292 / 306 ) Chinese Resturants in Prince's Bay, Staten Island:0\n",
      "( 293 / 306 ) Chinese Resturants in Lighthouse Hill, Staten Island:0\n",
      "( 294 / 306 ) Chinese Resturants in Richmond Valley, Staten Island:0\n",
      "( 295 / 306 ) Chinese Resturants in Malba, Queens:0\n",
      "( 296 / 306 ) Chinese Resturants in Highland Park, Brooklyn:0\n",
      "( 297 / 306 ) Chinese Resturants in Madison, Brooklyn:0\n",
      "( 298 / 306 ) Chinese Resturants in Bronxdale, Bronx:0\n",
      "( 299 / 306 ) Chinese Resturants in Allerton, Bronx:0\n",
      "( 300 / 306 ) Chinese Resturants in Kingsbridge Heights, Bronx:1\n",
      "( 301 / 306 ) Chinese Resturants in Erasmus, Brooklyn:0\n",
      "( 302 / 306 ) Chinese Resturants in Hudson Yards, Manhattan:0\n",
      "( 303 / 306 ) Chinese Resturants in Hammels, Queens:0\n",
      "( 304 / 306 ) Chinese Resturants in Bayswater, Queens:2\n",
      "( 305 / 306 ) Chinese Resturants in Queensbridge, Queens:0\n",
      "( 306 / 306 ) Chinese Resturants in Fox Hills, Staten Island:0\n"
     ]
    }
   ],
   "source": [
    "column_names=['Borough', 'Neighborhood', 'ID','Name']\n",
    "Chinese_rest_ny=pd.DataFrame(columns=column_names)\n",
    "count=1\n",
    "for row in neighborhoods.values.tolist():\n",
    "    Borough, Neighborhood, Latitude, Longitude=row\n",
    "    venues = get_venues(Latitude,Longitude)\n",
    "    Chinese_resturants=venues[venues['Category']=='Chinese Restaurant']   \n",
    "    print('(',count,'/',len(neighborhoods),')','Chinese Resturants in '+Neighborhood+', '+Borough+':'+str(len(Chinese_resturants)))\n",
    "    for resturant_detail in Chinese_resturants.values.tolist():\n",
    "        id, name , category=resturant_detail\n",
    "        Chinese_rest_ny = Chinese_rest_ny.append({'Borough': Borough,\n",
    "                                                'Neighborhood': Neighborhood, \n",
    "                                                'ID': id,\n",
    "                                                'Name' : name\n",
    "                                               }, ignore_index=True)\n",
    "    count+=1"
   ]
  },
  {
   "cell_type": "code",
   "execution_count": 18,
   "metadata": {},
   "outputs": [
    {
     "data": {
      "text/plain": [
       "(90, 4)"
      ]
     },
     "execution_count": 18,
     "metadata": {},
     "output_type": "execute_result"
    }
   ],
   "source": [
    "Chinese_rest_ny.shape"
   ]
  },
  {
   "cell_type": "code",
   "execution_count": 1,
   "metadata": {},
   "outputs": [
    {
     "ename": "NameError",
     "evalue": "name 'Chinese_rest_ny' is not defined",
     "output_type": "error",
     "traceback": [
      "\u001b[0;31m---------------------------------------------------------------------------\u001b[0m",
      "\u001b[0;31mNameError\u001b[0m                                 Traceback (most recent call last)",
      "\u001b[0;32m<ipython-input-1-d12c33ddabc9>\u001b[0m in \u001b[0;36m<module>\u001b[0;34m\u001b[0m\n\u001b[0;32m----> 1\u001b[0;31m \u001b[0mChinese_rest_ny\u001b[0m\u001b[0;34m.\u001b[0m\u001b[0mto_csv\u001b[0m\u001b[0;34m(\u001b[0m\u001b[0;34m'Chinese_rest_ny.csv'\u001b[0m\u001b[0;34m,\u001b[0m \u001b[0mindex\u001b[0m\u001b[0;34m=\u001b[0m\u001b[0;32mFalse\u001b[0m\u001b[0;34m)\u001b[0m\u001b[0;34m\u001b[0m\u001b[0;34m\u001b[0m\u001b[0m\n\u001b[0m",
      "\u001b[0;31mNameError\u001b[0m: name 'Chinese_rest_ny' is not defined"
     ]
    }
   ],
   "source": [
    "Chinese_rest_ny.to_csv('Chinese_rest_ny.csv', index=False)"
   ]
  },
  {
   "cell_type": "code",
   "execution_count": 4,
   "metadata": {},
   "outputs": [],
   "source": [
    "Chinese_rest_ny_csv = pd.read_csv('Chinese_rest_ny.csv')"
   ]
  },
  {
   "cell_type": "code",
   "execution_count": 5,
   "metadata": {},
   "outputs": [
    {
     "data": {
      "text/html": [
       "<div>\n",
       "<style scoped>\n",
       "    .dataframe tbody tr th:only-of-type {\n",
       "        vertical-align: middle;\n",
       "    }\n",
       "\n",
       "    .dataframe tbody tr th {\n",
       "        vertical-align: top;\n",
       "    }\n",
       "\n",
       "    .dataframe thead th {\n",
       "        text-align: right;\n",
       "    }\n",
       "</style>\n",
       "<table border=\"1\" class=\"dataframe\">\n",
       "  <thead>\n",
       "    <tr style=\"text-align: right;\">\n",
       "      <th></th>\n",
       "      <th>Borough</th>\n",
       "      <th>Neighborhood</th>\n",
       "      <th>ID</th>\n",
       "      <th>Name</th>\n",
       "    </tr>\n",
       "  </thead>\n",
       "  <tbody>\n",
       "    <tr>\n",
       "      <th>0</th>\n",
       "      <td>Bronx</td>\n",
       "      <td>Pelham Parkway</td>\n",
       "      <td>4b9d6b45f964a52078ab36e3</td>\n",
       "      <td>Mr. Q's Chinese Restaurant</td>\n",
       "    </tr>\n",
       "    <tr>\n",
       "      <th>1</th>\n",
       "      <td>Bronx</td>\n",
       "      <td>University Heights</td>\n",
       "      <td>566f33e7498e44c2501bda81</td>\n",
       "      <td>Panda Express</td>\n",
       "    </tr>\n",
       "    <tr>\n",
       "      <th>2</th>\n",
       "      <td>Bronx</td>\n",
       "      <td>Fordham</td>\n",
       "      <td>566f33e7498e44c2501bda81</td>\n",
       "      <td>Panda Express</td>\n",
       "    </tr>\n",
       "    <tr>\n",
       "      <th>3</th>\n",
       "      <td>Bronx</td>\n",
       "      <td>West Farms</td>\n",
       "      <td>4c7e9ddafb13a1cdf5369ea4</td>\n",
       "      <td>El Pabelon De Oro</td>\n",
       "    </tr>\n",
       "    <tr>\n",
       "      <th>4</th>\n",
       "      <td>Bronx</td>\n",
       "      <td>Hunts Point</td>\n",
       "      <td>4c7e9ddafb13a1cdf5369ea4</td>\n",
       "      <td>El Pabelon De Oro</td>\n",
       "    </tr>\n",
       "  </tbody>\n",
       "</table>\n",
       "</div>"
      ],
      "text/plain": [
       "  Borough        Neighborhood                        ID  \\\n",
       "0   Bronx      Pelham Parkway  4b9d6b45f964a52078ab36e3   \n",
       "1   Bronx  University Heights  566f33e7498e44c2501bda81   \n",
       "2   Bronx             Fordham  566f33e7498e44c2501bda81   \n",
       "3   Bronx          West Farms  4c7e9ddafb13a1cdf5369ea4   \n",
       "4   Bronx         Hunts Point  4c7e9ddafb13a1cdf5369ea4   \n",
       "\n",
       "                         Name  \n",
       "0  Mr. Q's Chinese Restaurant  \n",
       "1               Panda Express  \n",
       "2               Panda Express  \n",
       "3           El Pabelon De Oro  \n",
       "4           El Pabelon De Oro  "
      ]
     },
     "execution_count": 5,
     "metadata": {},
     "output_type": "execute_result"
    }
   ],
   "source": [
    "Chinese_rest_ny_csv.head()"
   ]
  },
  {
   "cell_type": "code",
   "execution_count": 24,
   "metadata": {},
   "outputs": [
    {
     "data": {
      "image/png": "[encoded data removed]",
      "text/plain": [
       "<Figure size 900x500 with 1 Axes>"
      ]
     },
     "metadata": {
      "needs_background": "light"
     },
     "output_type": "display_data"
    }
   ],
   "source": [
    "plt.figure(figsize=(9,5), dpi = 100)\n",
    "# title\n",
    "plt.title('Number of Chinese Resturants for each Borough in New York City')\n",
    "#On x-axis\n",
    "plt.xlabel('Borough', fontsize = 15)\n",
    "#On y-axis\n",
    "plt.ylabel('No.of Chinese Resturants', fontsize=15)\n",
    "#giving a bar plot\n",
    "Chinese_rest_ny_csv.groupby('Borough')['ID'].count().plot(kind='bar')\n",
    "#legend\n",
    "plt.legend()\n",
    "#displays the plot\n",
    "plt.show()"
   ]
  },
  {
   "cell_type": "code",
   "execution_count": 25,
   "metadata": {},
   "outputs": [
    {
     "data": {
      "image/png": "[encoded data removed]",
      "text/plain": [
       "<Figure size 900x500 with 1 Axes>"
      ]
     },
     "metadata": {
      "needs_background": "light"
     },
     "output_type": "display_data"
    }
   ],
   "source": [
    "plt.figure(figsize=(9,5), dpi = 100)\n",
    "# title\n",
    "plt.title('Number of Chinese Resturants for each Neighborhood in New York City')\n",
    "#On x-axis\n",
    "plt.xlabel('Neighborhood', fontsize = 15)\n",
    "#On y-axis\n",
    "plt.ylabel('No.of Chinese Resturants', fontsize=15)\n",
    "#giving a bar plot\n",
    "Chinese_rest_ny.groupby('Neighborhood')['ID'].count().nlargest(5).plot(kind='bar')\n",
    "#legend\n",
    "plt.legend()\n",
    "#displays the plot\n",
    "plt.show()"
   ]
  },
  {
   "cell_type": "code",
   "execution_count": 6,
   "metadata": {},
   "outputs": [
    {
     "data": {
      "text/html": [
       "<div>\n",
       "<style scoped>\n",
       "    .dataframe tbody tr th:only-of-type {\n",
       "        vertical-align: middle;\n",
       "    }\n",
       "\n",
       "    .dataframe tbody tr th {\n",
       "        vertical-align: top;\n",
       "    }\n",
       "\n",
       "    .dataframe thead th {\n",
       "        text-align: right;\n",
       "    }\n",
       "</style>\n",
       "<table border=\"1\" class=\"dataframe\">\n",
       "  <thead>\n",
       "    <tr style=\"text-align: right;\">\n",
       "      <th></th>\n",
       "      <th>Borough</th>\n",
       "      <th>Neighborhood</th>\n",
       "      <th>ID</th>\n",
       "      <th>Name</th>\n",
       "    </tr>\n",
       "  </thead>\n",
       "  <tbody>\n",
       "    <tr>\n",
       "      <th>36</th>\n",
       "      <td>Queens</td>\n",
       "      <td>Elmhurst</td>\n",
       "      <td>4eaf0752d3e30d448393b841</td>\n",
       "      <td>Lao Bei Fang</td>\n",
       "    </tr>\n",
       "    <tr>\n",
       "      <th>37</th>\n",
       "      <td>Queens</td>\n",
       "      <td>Elmhurst</td>\n",
       "      <td>56296f14498edb1ed77b64a3</td>\n",
       "      <td>Five Loaves and Two Fishes</td>\n",
       "    </tr>\n",
       "  </tbody>\n",
       "</table>\n",
       "</div>"
      ],
      "text/plain": [
       "   Borough Neighborhood                        ID                        Name\n",
       "36  Queens     Elmhurst  4eaf0752d3e30d448393b841                Lao Bei Fang\n",
       "37  Queens     Elmhurst  56296f14498edb1ed77b64a3  Five Loaves and Two Fishes"
      ]
     },
     "execution_count": 6,
     "metadata": {},
     "output_type": "execute_result"
    }
   ],
   "source": [
    "Chinese_rest_ny_csv[Chinese_rest_ny_csv['Neighborhood']=='Elmhurst']"
   ]
  },
  {
   "cell_type": "code",
   "execution_count": 7,
   "metadata": {},
   "outputs": [],
   "source": [
    "def get_venue_details(venue_id):\n",
    "    #set variables\n",
    "    CLIENT_ID = '05K5KD1U5KGPJUHFZYPUYT00INNSQZEWDLA2VCCFSKR0GP3Z' # your Foursquare ID\n",
    "    CLIENT_SECRET = '4JJFOMUCBG5JWKSKORR45B0MFAOCBDVSPIGB4ZSLRGRLYQIK' # your Foursquare Secret\n",
    "    VERSION = '20200424' # Foursquare API version\n",
    "    \n",
    "    #url to fetch data from foursquare api\n",
    "    url = 'https://api.foursquare.com/v2/venues/{}?&client_id={}&client_secret={}&v={}'.format(\n",
    "            venue_id,\n",
    "            CLIENT_ID, \n",
    "            CLIENT_SECRET, \n",
    "            VERSION)\n",
    "    \n",
    "    # get all the data\n",
    "    results = requests.get(url).json()\n",
    "    venue_data=results['response']['venue']\n",
    "    venue_details=[]\n",
    "    try:\n",
    "        venue_id=venue_data['id']\n",
    "        venue_name=venue_data['name']\n",
    "        venue_likes=venue_data['likes']['count']\n",
    "        venue_rating=venue_data['rating']\n",
    "        venue_tips=venue_data['tips']['count']\n",
    "        venue_details.append([venue_id,venue_name,venue_likes,venue_rating,venue_tips])\n",
    "    except KeyError:\n",
    "        pass\n",
    "        \n",
    "    column_names=['ID','Name','Likes','Rating','Tips']\n",
    "    df = pd.DataFrame(venue_details,columns=column_names)\n",
    "    return df"
   ]
  },
  {
   "cell_type": "code",
   "execution_count": 11,
   "metadata": {},
   "outputs": [
    {
     "ename": "NameError",
     "evalue": "name 'Chinese_rest_ny' is not defined",
     "output_type": "error",
     "traceback": [
      "\u001b[0;31m---------------------------------------------------------------------------\u001b[0m",
      "\u001b[0;31mNameError\u001b[0m                                 Traceback (most recent call last)",
      "\u001b[0;32m<ipython-input-11-862520a346fa>\u001b[0m in \u001b[0;36m<module>\u001b[0;34m\u001b[0m\n\u001b[1;32m      2\u001b[0m \u001b[0mChinese_rest_stats_ny\u001b[0m\u001b[0;34m=\u001b[0m\u001b[0mpd\u001b[0m\u001b[0;34m.\u001b[0m\u001b[0mDataFrame\u001b[0m\u001b[0;34m(\u001b[0m\u001b[0mcolumns\u001b[0m\u001b[0;34m=\u001b[0m\u001b[0mcolumn_names\u001b[0m\u001b[0;34m)\u001b[0m\u001b[0;34m\u001b[0m\u001b[0;34m\u001b[0m\u001b[0m\n\u001b[1;32m      3\u001b[0m \u001b[0mcount\u001b[0m\u001b[0;34m=\u001b[0m\u001b[0;36m1\u001b[0m\u001b[0;34m\u001b[0m\u001b[0;34m\u001b[0m\u001b[0m\n\u001b[0;32m----> 4\u001b[0;31m \u001b[0;32mfor\u001b[0m \u001b[0mrow\u001b[0m \u001b[0;32min\u001b[0m \u001b[0mChinese_rest_ny\u001b[0m\u001b[0;34m.\u001b[0m\u001b[0mvalues\u001b[0m\u001b[0;34m.\u001b[0m\u001b[0mtolist\u001b[0m\u001b[0;34m(\u001b[0m\u001b[0;34m)\u001b[0m\u001b[0;34m:\u001b[0m\u001b[0;34m\u001b[0m\u001b[0;34m\u001b[0m\u001b[0m\n\u001b[0m\u001b[1;32m      5\u001b[0m     \u001b[0mBorough\u001b[0m\u001b[0;34m,\u001b[0m\u001b[0mNeighborhood\u001b[0m\u001b[0;34m,\u001b[0m\u001b[0mID\u001b[0m\u001b[0;34m,\u001b[0m\u001b[0mName\u001b[0m\u001b[0;34m=\u001b[0m\u001b[0mrow\u001b[0m\u001b[0;34m\u001b[0m\u001b[0;34m\u001b[0m\u001b[0m\n\u001b[1;32m      6\u001b[0m     \u001b[0;32mtry\u001b[0m\u001b[0;34m:\u001b[0m\u001b[0;34m\u001b[0m\u001b[0;34m\u001b[0m\u001b[0m\n",
      "\u001b[0;31mNameError\u001b[0m: name 'Chinese_rest_ny' is not defined"
     ]
    }
   ],
   "source": [
    "column_names=['Borough', 'Neighborhood', 'ID','Name','Likes','Rating']\n",
    "Chinese_rest_stats_ny=pd.DataFrame(columns=column_names)\n",
    "count=1\n",
    "for row in Chinese_rest_ny.values.tolist():\n",
    "    Borough,Neighborhood,ID,Name=row\n",
    "    try:\n",
    "        venue_details=get_venue_details(ID)\n",
    "        #print(venue_details)\n",
    "        id,name,likes,rating=venue_details.values.tolist()[0]\n",
    "    except IndexError:\n",
    "        #print('No data available for id=',ID) #assign 0 value for the restaurants as they may have been\n",
    "                                            #recently opened or details do not exist in the FourSquare Database\n",
    "        id,name,likes,rating=[0]*4                                                                                   \n",
    "    #print('(',count,'/',len(chi_res_nyc),')','processed')\n",
    "    Chinese_rest_stats_ny = Chinese_rest_stats_ny.append({'Borough': Borough,\n",
    "                                                'Neighborhood': Neighborhood, \n",
    "                                                'ID': id,\n",
    "                                                'Name' : name,\n",
    "                                                'Likes' : likes,\n",
    "                                                'Rating' : rating,\n",
    "                                                },ignore_index=True)\n",
    "                                                                                             \n",
    "                                        \n",
    "                                               \n",
    "    count+=1"
   ]
  },
  {
   "cell_type": "code",
   "execution_count": null,
   "metadata": {},
   "outputs": [],
   "source": [
    "project.save_data(\"chinese restaurants stats nyc.csv\", Chinese_rest_stats_ny.to_csv(), overwrite=chi_rest_stats_nyc = r'chinese restaurants stats nyc.csv'\n",
    "\n",
    "Chinese_rest_stats_ny = r'chinese restaurants stats nyc.csv'               \n",
    "Chinese_rest_stats_ny = pd.read_csv(Chinese_rest_stats_ny)\n",
    "Chinese_rest_stats_ny.drop(['Unnamed: 0'], axis=1, inplace = True)\n",
    "Chinese_rest_stats_ny.head()True)"
   ]
  },
  {
   "cell_type": "code",
   "execution_count": null,
   "metadata": {},
   "outputs": [],
   "source": [
    "indexratingzero=Chinese_rest_stats_ny[Chinese_rest_stats_ny['Rating']==0].index\n",
    "Chinese_rest_stats_ny.drop(indexratingzero, inplace=True)"
   ]
  },
  {
   "cell_type": "code",
   "execution_count": null,
   "metadata": {},
   "outputs": [],
   "source": [
    "Chinese_rest_stats_ny.loc[Chinese_rest_stats_ny['Rating'].idxmax()]\n",
    "neighborhood_stats = Chinese_rest_stats_ny.groupby('Neighborhood', as_index=False).mean()[['Neighborhood','Rating']]\n",
    "neighborhood_stats.columns=['Neighborhood','Average Rating']\n",
    "neighborhood_stats.sort_values(['Average Rating'], ascending=False).head()"
   ]
  },
  {
   "cell_type": "code",
   "execution_count": null,
   "metadata": {},
   "outputs": [],
   "source": [
    "borough_stats=Chinese_rest_stats_ny.groupby('Borough', as_index=False).mean()[['Borough','Rating']]\n",
    "borough_stats.columns=['Borough', 'Average Rating']\n",
    "borough_stats.sort_values(['Average Rating'], ascending=False).head()"
   ]
  },
  {
   "cell_type": "code",
   "execution_count": null,
   "metadata": {},
   "outputs": [],
   "source": [
    "borough_stats.groupby('Borough').mean()['Average Rating'].plot.bar(figsize=(10,5), color=gry)\n",
    "plt.title('Average rating of Chinese Restaurants for each Borough', fontsize=20)\n",
    "plt.xlabel('Borough',fontsize=13)\n",
    "plt.ylabel('Average Rating', fontsize=13)\n",
    "plt.xticks(rotation='horizontal')\n",
    "plt.show()"
   ]
  },
  {
   "cell_type": "code",
   "execution_count": null,
   "metadata": {},
   "outputs": [],
   "source": [
    "neighborhood_stats_rating = neighborhood_stats[neighborhood_stats['Average Rating']>=6.0]"
   ]
  },
  {
   "cell_type": "code",
   "execution_count": null,
   "metadata": {},
   "outputs": [],
   "source": [
    "neighborhood_stats_rating = pd.merge(neighborhood_stats_rating, nyc_data, on='Neighborhood')\n",
    "neighborhood_stats_rating=neighborhood_stats_rating[['Borough', 'Neighborhood','Latitude','Longitude','Average Rating']]"
   ]
  },
  {
   "cell_type": "code",
   "execution_count": null,
   "metadata": {},
   "outputs": [],
   "source": [
    "latitude= 40.687936\n",
    "longitude= -73.976358\n",
    "\n",
    "#create map with neighborhoods and rating\n",
    "from folium import plugins\n",
    "\n",
    "#start with clean copy of NYC map\n",
    "nyc_map = folium.Map(location=[latitude, longitude], zoom_start=11)\n",
    "\n",
    "#instantiate a marker cluster object for the ratings in the dataframe\n",
    "chi_rating = plugins.MarkerCluster().add_to(nyc_map)\n",
    "\n",
    "neighborhood_stats_rating['Label']= neighborhood_stats_rating['Neighborhood']+'('+neighborhood_stats_rating['Average Rating'].map(str)+')'\n",
    "#loop through the dataframe and add each data point to the mark cluster\n",
    "for lat, lng, label, in neighborhood_stats_rating[['Latitude','Longitude','Label']].values:\n",
    "    folium.Marker(\n",
    "        location=[lat,lng],\n",
    "        icon=None,\n",
    "        popup=label).add_to(chi_rating)\n",
    "    \n",
    "nyc_map"
   ]
  },
  {
   "cell_type": "code",
   "execution_count": null,
   "metadata": {},
   "outputs": [],
   "source": [
    "#create choropleth map for average rating per borough\n",
    "nyc_geo = r'Borough Boundaries.geojson'\n",
    "nyc_map = folium.Map(location=[latitude,longitude], zoom_start=11)\n",
    "\n",
    "nyc_map.choropleth(\n",
    "    geo_data=nyc_geo,\n",
    "    name='choropleth',\n",
    "    data=borough_stats,\n",
    "    columns=['Borough', 'Average Rating'],\n",
    "    key_on='feature.properties.boro_name',\n",
    "    fill_color='YlOrRd', \n",
    "    fill_opacity=0.7, \n",
    "    line_opacity=0.2,\n",
    "    legend_name='Average Rating'\n",
    ")\n"
   ]
  },
  {
   "cell_type": "code",
   "execution_count": null,
   "metadata": {},
   "outputs": [],
   "source": []
  },
  {
   "cell_type": "code",
   "execution_count": null,
   "metadata": {},
   "outputs": [],
   "source": []
  }
 ],
 "metadata": {
  "kernelspec": {
   "display_name": "Python",
   "language": "python",
   "name": "conda-env-python-py"
  },
  "language_info": {
   "codemirror_mode": {
    "name": "ipython",
    "version": 3
   },
   "file_extension": ".py",
   "mimetype": "text/x-python",
   "name": "python",
   "nbconvert_exporter": "python",
   "pygments_lexer": "ipython3",
   "version": "3.6.10"
  }
 },
 "nbformat": 4,
 "nbformat_minor": 4
}
